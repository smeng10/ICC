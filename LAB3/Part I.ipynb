{
 "cells": [
  {
   "cell_type": "code",
   "execution_count": 1,
   "metadata": {},
   "outputs": [],
   "source": [
    "import tensorflow as tf\n",
    "from tensorflow import keras\n",
    "import numpy as np\n",
    "import time\n",
    "import requests\n",
    "import gzip\n",
    "import os\n",
    "\n",
    "fashion_mnist = keras.datasets.fashion_mnist\n",
    "(train_images, train_labels), (test_images, test_labels) = fashion_mnist.load_data()\n",
    "train_images = train_images.reshape((train_images.shape[0], 28, 28, 1))\n",
    "test_images = test_images.reshape((test_images.shape[0], 28, 28, 1))\n",
    "train_images = train_images / 255.0\n",
    "test_images = test_images / 225.0"
   ]
  },
  {
   "cell_type": "code",
   "execution_count": 6,
   "metadata": {},
   "outputs": [],
   "source": [
    "def get_testset():\n",
    "    url = 'https://courses.engr.illinois.edu/ece498icc/sp2019/lab2_request_dataset.php'\n",
    "    values = {'request': 'testdata', 'netid':'smeng10', 'team':'msp'}\n",
    "    r = requests.post(url, data=values, allow_redirects=True)\n",
    "    filename = r.url.split(\"/\")[-1]\n",
    "    testset_id = filename.split(\".\")[0].split(\"_\")[-1]\n",
    "    with open(filename, 'wb') as f: \n",
    "        f.write(r.content)\n",
    "    return load_dataset(filename), testset_id\n",
    "\n",
    "def load_dataset(path):\n",
    "    num_img = 1000\n",
    "    with gzip.open(path, 'rb') as infile:\n",
    "        data = np.frombuffer(infile.read(), dtype=np.uint8).reshape(num_img, 784)\n",
    "    return data\n",
    "\n",
    "def send_result(pred, testset_id,latency):\n",
    "    url = 'https://courses.engr.illinois.edu/ece498icc/sp2019/lab2_request_dataset.php'\n",
    "    values = {'request': 'verify', \n",
    "              'netid':'smeng10', \n",
    "              'team':'msp', \n",
    "              'testset_id' : testset_id, \n",
    "              'prediction' : pred, \n",
    "              'latency': latency}\n",
    "    r = requests.post(url, data=values, allow_redirects=True)\n",
    "    return r\n",
    "\n",
    "def create_keras_model():\n",
    "    model = tf.keras.Sequential()\n",
    "    model.add(tf.keras.layers.Conv2D(filters=3, kernel_size=5, padding='valid', activation='relu', input_shape=(28,28,1))) \n",
    "    model.add(tf.keras.layers.MaxPooling2D(strides=2))\n",
    "    model.add(tf.keras.layers.Conv2D(filters=3, kernel_size=3, padding='same', activation='relu'))\n",
    "    model.add(tf.keras.layers.MaxPooling2D(strides=2))\n",
    "    model.add(tf.keras.layers.Flatten())\n",
    "    model.add(tf.keras.layers.Dense(100, activation='relu'))\n",
    "    model.add(tf.keras.layers.Dense(50, activation='relu'))\n",
    "    model.add(tf.keras.layers.Dense(10, activation='softmax'))\n",
    "    \n",
    "    model.compile(optimizer='adam', \n",
    "              loss='sparse_categorical_crossentropy',\n",
    "              metrics=['accuracy'])\n",
    "\n",
    "    model.summary()\n",
    "    return model\n",
    "\n",
    "def keras_test(ckpt, test_img):\n",
    "    #KERAS checkpoint\n",
    "    if ckpt == \"FashionNet/\":\n",
    "        model = create_keras_model()\n",
    "    elif ckpt == \"FashionNetModified/\":\n",
    "        model = create_keras_model_modified()\n",
    "    elif ckpt == \"customized/\":\n",
    "        model = None\n",
    "    model.load_weights(ckpt)\n",
    "    \n",
    "    start = time.time()\n",
    "    pred = model.predict(test_img)\n",
    "    end = time.time()\n",
    "    \n",
    "    pred = ''.join(list(map(lambda x: str(x.argmax()),pred)))\n",
    "    return pred,calc_latency(start,end)\n",
    "\n",
    "def autotest(ckpt):\n",
    "    data = get_testset()\n",
    "    imgs = data[0].reshape((data[0].shape[0], 28, 28, 1))/255.0\n",
    "    #test keras\n",
    "    pred, latency = keras_test(ckpt,imgs)\n",
    "    r = send_result(pred=pred, testset_id=data[1], latency=latency)\n",
    "    acc = int(r.text)/1000\n",
    "    Score = acc / (5 * latency)\n",
    "    print(f'checkpoint {ckpt} score is {Score}, its accuracy is {acc}, latency is {latency}')\n",
    "    \n",
    "def calc_latency(start,end):\n",
    "    return end-start"
   ]
  },
  {
   "cell_type": "markdown",
   "metadata": {},
   "source": [
    "# 1.1 Latency evaluation of your FashionNet in lab2 running on Raspberry Pi. "
   ]
  },
  {
   "cell_type": "code",
   "execution_count": 7,
   "metadata": {},
   "outputs": [
    {
     "name": "stdout",
     "output_type": "stream",
     "text": [
      "_________________________________________________________________\n",
      "Layer (type)                 Output Shape              Param #   \n",
      "=================================================================\n",
      "conv2d_4 (Conv2D)            (None, 24, 24, 3)         78        \n",
      "_________________________________________________________________\n",
      "max_pooling2d_4 (MaxPooling2 (None, 12, 12, 3)         0         \n",
      "_________________________________________________________________\n",
      "conv2d_5 (Conv2D)            (None, 12, 12, 3)         84        \n",
      "_________________________________________________________________\n",
      "max_pooling2d_5 (MaxPooling2 (None, 6, 6, 3)           0         \n",
      "_________________________________________________________________\n",
      "flatten_2 (Flatten)          (None, 108)               0         \n",
      "_________________________________________________________________\n",
      "dense_6 (Dense)              (None, 100)               10900     \n",
      "_________________________________________________________________\n",
      "dense_7 (Dense)              (None, 50)                5050      \n",
      "_________________________________________________________________\n",
      "dense_8 (Dense)              (None, 10)                510       \n",
      "=================================================================\n",
      "Total params: 16,622\n",
      "Trainable params: 16,622\n",
      "Non-trainable params: 0\n",
      "_________________________________________________________________\n",
      "checkpoint FashionNet/ score is 1.5051851713856812, its accuracy is 0.863, latency is 0.1146702766418457\n"
     ]
    }
   ],
   "source": [
    "r = autotest(\"FashionNet/\")"
   ]
  },
  {
   "cell_type": "markdown",
   "metadata": {},
   "source": [
    "# 1.2 Implement a modified FashionNet"
   ]
  },
  {
   "cell_type": "code",
   "execution_count": 8,
   "metadata": {},
   "outputs": [],
   "source": [
    "def create_keras_model_modified():\n",
    "    model = tf.keras.Sequential()\n",
    "    model.add(tf.keras.layers.Conv2D(filters=3, kernel_size=5, padding='valid', activation='relu', input_shape=(28,28,1))) \n",
    "    model.add(tf.keras.layers.MaxPooling2D(strides=2))\n",
    "    model.add(tf.keras.layers.DepthwiseConv2D(kernel_size=3, padding='same', activation='relu'))\n",
    "    model.add(tf.keras.layers.SeparableConv2D(filters=3, kernel_size=1, padding='valid', activation='relu'))\n",
    "    model.add(tf.keras.layers.MaxPooling2D(strides=2))\n",
    "    model.add(tf.keras.layers.Flatten())\n",
    "    model.add(tf.keras.layers.Dense(100, activation='relu'))\n",
    "    model.add(tf.keras.layers.Dense(50, activation='relu'))\n",
    "    model.add(tf.keras.layers.Dense(10, activation='softmax'))\n",
    "    model.compile(optimizer='adam', \n",
    "              loss='sparse_categorical_crossentropy',\n",
    "              metrics=['accuracy'])\n",
    "    model.summary()\n",
    "    return model"
   ]
  },
  {
   "cell_type": "code",
   "execution_count": 9,
   "metadata": {},
   "outputs": [
    {
     "name": "stdout",
     "output_type": "stream",
     "text": [
      "_________________________________________________________________\n",
      "Layer (type)                 Output Shape              Param #   \n",
      "=================================================================\n",
      "conv2d_6 (Conv2D)            (None, 24, 24, 3)         78        \n",
      "_________________________________________________________________\n",
      "max_pooling2d_6 (MaxPooling2 (None, 12, 12, 3)         0         \n",
      "_________________________________________________________________\n",
      "depthwise_conv2d (DepthwiseC (None, 12, 12, 3)         30        \n",
      "_________________________________________________________________\n",
      "separable_conv2d (SeparableC (None, 12, 12, 3)         15        \n",
      "_________________________________________________________________\n",
      "max_pooling2d_7 (MaxPooling2 (None, 6, 6, 3)           0         \n",
      "_________________________________________________________________\n",
      "flatten_3 (Flatten)          (None, 108)               0         \n",
      "_________________________________________________________________\n",
      "dense_9 (Dense)              (None, 100)               10900     \n",
      "_________________________________________________________________\n",
      "dense_10 (Dense)             (None, 50)                5050      \n",
      "_________________________________________________________________\n",
      "dense_11 (Dense)             (None, 10)                510       \n",
      "=================================================================\n",
      "Total params: 16,583\n",
      "Trainable params: 16,583\n",
      "Non-trainable params: 0\n",
      "_________________________________________________________________\n"
     ]
    }
   ],
   "source": [
    "new_model = create_keras_model_modified()"
   ]
  },
  {
   "cell_type": "code",
   "execution_count": 11,
   "metadata": {
    "scrolled": false
   },
   "outputs": [
    {
     "name": "stdout",
     "output_type": "stream",
     "text": [
      "Train on 54000 samples, validate on 6000 samples\n",
      "Epoch 1/10\n",
      "54000/54000 [==============================] - 14s 253us/step - loss: 0.7985 - acc: 0.7041 - val_loss: 0.6096 - val_acc: 0.7570\n",
      "Epoch 2/10\n",
      "54000/54000 [==============================] - 13s 241us/step - loss: 0.5311 - acc: 0.8048 - val_loss: 0.4977 - val_acc: 0.8192\n",
      "Epoch 3/10\n",
      "54000/54000 [==============================] - 13s 243us/step - loss: 0.4780 - acc: 0.8250 - val_loss: 0.4761 - val_acc: 0.8257\n",
      "Epoch 4/10\n",
      "54000/54000 [==============================] - 13s 237us/step - loss: 0.4438 - acc: 0.8387 - val_loss: 0.4881 - val_acc: 0.8202\n",
      "Epoch 5/10\n",
      "54000/54000 [==============================] - 13s 239us/step - loss: 0.4201 - acc: 0.8482 - val_loss: 0.4181 - val_acc: 0.8457\n",
      "Epoch 6/10\n",
      "54000/54000 [==============================] - 13s 238us/step - loss: 0.4013 - acc: 0.8530 - val_loss: 0.4109 - val_acc: 0.8440\n",
      "Epoch 7/10\n",
      "54000/54000 [==============================] - 13s 243us/step - loss: 0.3869 - acc: 0.8580 - val_loss: 0.3879 - val_acc: 0.8550\n",
      "Epoch 8/10\n",
      "54000/54000 [==============================] - 13s 241us/step - loss: 0.3775 - acc: 0.8613 - val_loss: 0.3819 - val_acc: 0.8553\n",
      "Epoch 9/10\n",
      "54000/54000 [==============================] - 13s 244us/step - loss: 0.3644 - acc: 0.8661 - val_loss: 0.3882 - val_acc: 0.8548\n",
      "Epoch 10/10\n",
      "54000/54000 [==============================] - 14s 253us/step - loss: 0.3555 - acc: 0.8687 - val_loss: 0.3929 - val_acc: 0.8558\n"
     ]
    }
   ],
   "source": [
    "history = new_model.fit(train_images, train_labels, validation_split=0.1, batch_size=64, epochs=10)"
   ]
  },
  {
   "cell_type": "code",
   "execution_count": 19,
   "metadata": {},
   "outputs": [
    {
     "name": "stdout",
     "output_type": "stream",
     "text": [
      "WARNING:tensorflow:This model was compiled with a Keras optimizer (<tensorflow.python.keras.optimizers.Adam object at 0x000001EC56F99CC0>) but is being saved in TensorFlow format with `save_weights`. The model's weights will be saved, but unlike with TensorFlow optimizers in the TensorFlow format the optimizer's state will not be saved.\n",
      "\n",
      "Consider using a TensorFlow optimizer from `tf.train`.\n"
     ]
    }
   ],
   "source": [
    "new_model.save_weights(filepath='FashionNetModified/')"
   ]
  },
  {
   "cell_type": "code",
   "execution_count": 21,
   "metadata": {},
   "outputs": [
    {
     "name": "stdout",
     "output_type": "stream",
     "text": [
      "_________________________________________________________________\n",
      "Layer (type)                 Output Shape              Param #   \n",
      "=================================================================\n",
      "conv2d_7 (Conv2D)            (None, 24, 24, 3)         78        \n",
      "_________________________________________________________________\n",
      "max_pooling2d_8 (MaxPooling2 (None, 12, 12, 3)         0         \n",
      "_________________________________________________________________\n",
      "depthwise_conv2d_1 (Depthwis (None, 12, 12, 3)         30        \n",
      "_________________________________________________________________\n",
      "separable_conv2d_1 (Separabl (None, 12, 12, 3)         15        \n",
      "_________________________________________________________________\n",
      "max_pooling2d_9 (MaxPooling2 (None, 6, 6, 3)           0         \n",
      "_________________________________________________________________\n",
      "flatten_4 (Flatten)          (None, 108)               0         \n",
      "_________________________________________________________________\n",
      "dense_12 (Dense)             (None, 100)               10900     \n",
      "_________________________________________________________________\n",
      "dense_13 (Dense)             (None, 50)                5050      \n",
      "_________________________________________________________________\n",
      "dense_14 (Dense)             (None, 10)                510       \n",
      "=================================================================\n",
      "Total params: 16,583\n",
      "Trainable params: 16,583\n",
      "Non-trainable params: 0\n",
      "_________________________________________________________________\n",
      "checkpoint FashionNetModified/ score is 1.1347600350453875, its accuracy is 0.86, latency is 0.15157389640808105\n"
     ]
    }
   ],
   "source": [
    "autotest(\"FashionNetModified/\")"
   ]
  },
  {
   "cell_type": "code",
   "execution_count": null,
   "metadata": {},
   "outputs": [],
   "source": [
    "autotest()"
   ]
  }
 ],
 "metadata": {
  "kernelspec": {
   "display_name": "Python 3",
   "language": "python",
   "name": "python3"
  },
  "language_info": {
   "codemirror_mode": {
    "name": "ipython",
    "version": 3
   },
   "file_extension": ".py",
   "mimetype": "text/x-python",
   "name": "python",
   "nbconvert_exporter": "python",
   "pygments_lexer": "ipython3",
   "version": "3.6.8"
  }
 },
 "nbformat": 4,
 "nbformat_minor": 2
}
